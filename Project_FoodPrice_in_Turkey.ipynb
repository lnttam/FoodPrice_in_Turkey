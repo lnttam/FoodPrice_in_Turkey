{
 "cells": [
  {
   "cell_type": "code",
   "execution_count": 99,
   "id": "3dffc299",
   "metadata": {},
   "outputs": [],
   "source": [
    "import pandas as pd\n",
    "import seaborn as sns\n",
    "import matplotlib.pyplot as plt\n",
    "import seaborn as sns"
   ]
  },
  {
   "cell_type": "code",
   "execution_count": 100,
   "id": "1a6b0222",
   "metadata": {},
   "outputs": [
    {
     "data": {
      "text/html": [
       "<div>\n",
       "<style scoped>\n",
       "    .dataframe tbody tr th:only-of-type {\n",
       "        vertical-align: middle;\n",
       "    }\n",
       "\n",
       "    .dataframe tbody tr th {\n",
       "        vertical-align: top;\n",
       "    }\n",
       "\n",
       "    .dataframe thead th {\n",
       "        text-align: right;\n",
       "    }\n",
       "</style>\n",
       "<table border=\"1\" class=\"dataframe\">\n",
       "  <thead>\n",
       "    <tr style=\"text-align: right;\">\n",
       "      <th></th>\n",
       "      <th>Place</th>\n",
       "      <th>ProductId</th>\n",
       "      <th>ProductName</th>\n",
       "      <th>UmId</th>\n",
       "      <th>UmName</th>\n",
       "      <th>Month</th>\n",
       "      <th>Year</th>\n",
       "      <th>Price</th>\n",
       "    </tr>\n",
       "  </thead>\n",
       "  <tbody>\n",
       "    <tr>\n",
       "      <th>0</th>\n",
       "      <td>National Average</td>\n",
       "      <td>52</td>\n",
       "      <td>Rice - Retail</td>\n",
       "      <td>5</td>\n",
       "      <td>KG</td>\n",
       "      <td>5</td>\n",
       "      <td>2013</td>\n",
       "      <td>4.4920</td>\n",
       "    </tr>\n",
       "    <tr>\n",
       "      <th>1</th>\n",
       "      <td>National Average</td>\n",
       "      <td>52</td>\n",
       "      <td>Rice - Retail</td>\n",
       "      <td>5</td>\n",
       "      <td>KG</td>\n",
       "      <td>6</td>\n",
       "      <td>2013</td>\n",
       "      <td>4.5786</td>\n",
       "    </tr>\n",
       "    <tr>\n",
       "      <th>2</th>\n",
       "      <td>National Average</td>\n",
       "      <td>52</td>\n",
       "      <td>Rice - Retail</td>\n",
       "      <td>5</td>\n",
       "      <td>KG</td>\n",
       "      <td>11</td>\n",
       "      <td>2013</td>\n",
       "      <td>4.7865</td>\n",
       "    </tr>\n",
       "    <tr>\n",
       "      <th>3</th>\n",
       "      <td>National Average</td>\n",
       "      <td>52</td>\n",
       "      <td>Rice - Retail</td>\n",
       "      <td>5</td>\n",
       "      <td>KG</td>\n",
       "      <td>12</td>\n",
       "      <td>2013</td>\n",
       "      <td>5.1337</td>\n",
       "    </tr>\n",
       "    <tr>\n",
       "      <th>4</th>\n",
       "      <td>National Average</td>\n",
       "      <td>52</td>\n",
       "      <td>Rice - Retail</td>\n",
       "      <td>5</td>\n",
       "      <td>KG</td>\n",
       "      <td>1</td>\n",
       "      <td>2014</td>\n",
       "      <td>5.5099</td>\n",
       "    </tr>\n",
       "  </tbody>\n",
       "</table>\n",
       "</div>"
      ],
      "text/plain": [
       "              Place  ProductId    ProductName  UmId UmName  Month  Year  \\\n",
       "0  National Average         52  Rice - Retail     5     KG      5  2013   \n",
       "1  National Average         52  Rice - Retail     5     KG      6  2013   \n",
       "2  National Average         52  Rice - Retail     5     KG     11  2013   \n",
       "3  National Average         52  Rice - Retail     5     KG     12  2013   \n",
       "4  National Average         52  Rice - Retail     5     KG      1  2014   \n",
       "\n",
       "    Price  \n",
       "0  4.4920  \n",
       "1  4.5786  \n",
       "2  4.7865  \n",
       "3  5.1337  \n",
       "4  5.5099  "
      ]
     },
     "execution_count": 100,
     "metadata": {},
     "output_type": "execute_result"
    }
   ],
   "source": [
    "df=pd.read_csv('FoodPrice_in_Turkey.csv')\n",
    "df.head()"
   ]
  },
  {
   "cell_type": "code",
   "execution_count": 101,
   "id": "49560fc6",
   "metadata": {},
   "outputs": [
    {
     "name": "stdout",
     "output_type": "stream",
     "text": [
      "<class 'pandas.core.frame.DataFrame'>\n",
      "RangeIndex: 7381 entries, 0 to 7380\n",
      "Data columns (total 8 columns):\n",
      " #   Column       Non-Null Count  Dtype  \n",
      "---  ------       --------------  -----  \n",
      " 0   Place        7381 non-null   object \n",
      " 1   ProductId    7381 non-null   int64  \n",
      " 2   ProductName  7381 non-null   object \n",
      " 3   UmId         7381 non-null   int64  \n",
      " 4   UmName       7381 non-null   object \n",
      " 5   Month        7381 non-null   int64  \n",
      " 6   Year         7381 non-null   int64  \n",
      " 7   Price        7381 non-null   float64\n",
      "dtypes: float64(1), int64(4), object(3)\n",
      "memory usage: 461.4+ KB\n"
     ]
    }
   ],
   "source": [
    "df.info()"
   ]
  },
  {
   "cell_type": "raw",
   "id": "647e24b5",
   "metadata": {},
   "source": [
    "Thông tin data:\n",
    "    Place: Nơi bán\n",
    "    ProductID: Mã sản phẩm\n",
    "    ProductName: Tên sản phẩm\n",
    "    UmId: Mã đơn vị đo lường\n",
    "    UmName: Tên đơn vị đo lường\n",
    "    Month: Tháng\n",
    "    Year: Năm\n",
    "    Price: Giá"
   ]
  },
  {
   "cell_type": "markdown",
   "id": "de725bd9",
   "metadata": {},
   "source": [
    "Xử lý dữ liệu ngoại lai cho đặc trưng Price"
   ]
  },
  {
   "cell_type": "code",
   "execution_count": 102,
   "id": "f5032b73",
   "metadata": {},
   "outputs": [
    {
     "data": {
      "text/plain": [
       "<AxesSubplot:xlabel='Price'>"
      ]
     },
     "execution_count": 102,
     "metadata": {},
     "output_type": "execute_result"
    },
    {
     "data": {
      "image/png": "[encoded data removed]",
      "text/plain": [
       "<Figure size 432x288 with 1 Axes>"
      ]
     },
     "metadata": {
      "needs_background": "light"
     },
     "output_type": "display_data"
    }
   ],
   "source": [
    "sns.boxplot(x=df['Price'])"
   ]
  },
  {
   "cell_type": "code",
   "execution_count": 103,
   "id": "db2b886f",
   "metadata": {},
   "outputs": [
    {
     "data": {
      "text/plain": [
       "count    7381.000000\n",
       "mean       15.738709\n",
       "std        22.418284\n",
       "min         0.253900\n",
       "25%         3.223600\n",
       "50%         5.909600\n",
       "75%        20.441900\n",
       "max       159.445800\n",
       "Name: Price, dtype: float64"
      ]
     },
     "execution_count": 103,
     "metadata": {},
     "output_type": "execute_result"
    }
   ],
   "source": [
    "des_price = df['Price'].describe()\n",
    "des_price"
   ]
  },
  {
   "cell_type": "code",
   "execution_count": 104,
   "id": "0a3b655c",
   "metadata": {},
   "outputs": [],
   "source": [
    "Q1 = des_price['25%']\n",
    "Q3 = des_price['75%']\n",
    "IQR = Q3-Q1"
   ]
  },
  {
   "cell_type": "code",
   "execution_count": 105,
   "id": "d83b967a",
   "metadata": {},
   "outputs": [],
   "source": [
    "df = df[~((df['Price'] < (Q1 - 1.5*IQR)) | (df['Price'] > (Q3 + 1.5*IQR))) == True]"
   ]
  },
  {
   "cell_type": "code",
   "execution_count": 106,
   "id": "535d1351",
   "metadata": {},
   "outputs": [
    {
     "data": {
      "text/plain": [
       "<AxesSubplot:xlabel='Price'>"
      ]
     },
     "execution_count": 106,
     "metadata": {},
     "output_type": "execute_result"
    },
    {
     "data": {
      "image/png": "[encoded data removed]",
      "text/plain": [
       "<Figure size 432x288 with 1 Axes>"
      ]
     },
     "metadata": {
      "needs_background": "light"
     },
     "output_type": "display_data"
    }
   ],
   "source": [
    "sns.boxplot(x=df['Price'])"
   ]
  },
  {
   "cell_type": "markdown",
   "id": "110ac309",
   "metadata": {},
   "source": [
    "Biểu đồ cột so sánh giá gạo (Rice-Retail) tháng 12 năm 2019 của Nơi bán "
   ]
  },
  {
   "cell_type": "code",
   "execution_count": 107,
   "id": "b51f505d",
   "metadata": {},
   "outputs": [],
   "source": [
    "dt1 = df[(df['Year'] == 2019) & (df['Month'] == 12) & (df['ProductName'] == 'Rice - Retail')]"
   ]
  },
  {
   "cell_type": "code",
   "execution_count": 108,
   "id": "a49b50a5",
   "metadata": {},
   "outputs": [
    {
     "data": {
      "image/png": "[encoded data removed]",
      "text/plain": [
       "<Figure size 432x288 with 1 Axes>"
      ]
     },
     "metadata": {
      "needs_background": "light"
     },
     "output_type": "display_data"
    }
   ],
   "source": [
    "plt.bar(dt1['Place'], dt1['Price'], width = 0.5)\n",
    "plt.title('Giá giạo 12/2019', fontsize = 16, color = 'r')\n",
    "plt.xlabel('Nơi bán', fontsize = 14)\n",
    "plt.ylabel('Giá', fontsize = 14)\n",
    "plt.show()"
   ]
  },
  {
   "cell_type": "raw",
   "id": "72126275",
   "metadata": {},
   "source": [
    "Nhận xét:\n",
    "    Giá gạo Tháng 12/2019 của Istanbul vầ Izmir tương đương và cao hơn giá gạo trung bình quốc gia và Ankara.\n",
    "    Giá gạo tháng 12/2019 tại Ankara thấp nhất."
   ]
  },
  {
   "cell_type": "markdown",
   "id": "8d19c529",
   "metadata": {},
   "source": [
    "Biểu đồ đường phân tích xu hướng giá gạo (Rice-Retail) trung bình cả nước (National Average) trong năm 2019"
   ]
  },
  {
   "cell_type": "code",
   "execution_count": 109,
   "id": "e5b7a13d",
   "metadata": {},
   "outputs": [],
   "source": [
    "dt2 = df[(df['Place'] == 'National Average') & (df['Year'] == 2019) & (df['ProductName'] == 'Rice - Retail')]"
   ]
  },
  {
   "cell_type": "code",
   "execution_count": 110,
   "id": "1892519f",
   "metadata": {},
   "outputs": [
    {
     "data": {
      "image/png": "[encoded data removed]",
      "text/plain": [
       "<Figure size 432x288 with 1 Axes>"
      ]
     },
     "metadata": {
      "needs_background": "light"
     },
     "output_type": "display_data"
    }
   ],
   "source": [
    "plt.plot(dt2['Month'], dt2['Price'])\n",
    "plt.show()"
   ]
  },
  {
   "cell_type": "code",
   "execution_count": 111,
   "id": "5d75a7c2",
   "metadata": {},
   "outputs": [
    {
     "data": {
      "image/png": "[encoded data removed]",
      "text/plain": [
       "<Figure size 432x288 with 1 Axes>"
      ]
     },
     "metadata": {
      "needs_background": "light"
     },
     "output_type": "display_data"
    }
   ],
   "source": [
    "plt.plot(dt2['Month'], dt2['Price'], linewidth = 2, marker = '*', markersize=10, markerfacecolor='red', markeredgecolor = 'blue', markeredgewidth=2)\n",
    "plt.title('Giá gạo của National Average 2019', fontsize = 16, color = 'r')\n",
    "plt.xlabel('Tháng', fontsize = 14)\n",
    "plt.ylabel('Giá', fontsize = 14)\n",
    "plt.show()"
   ]
  },
  {
   "cell_type": "raw",
   "id": "8816fbcb",
   "metadata": {},
   "source": [
    "Nhận xét:\n",
    "    Giá gạo trung bình quốc gia năm 2019 tăng liên tục từ tháng 1 cho tới tháng 9, tháng 10, 11 có giảm nhẹ. Tuy nhiên, giá gạo lại tiếp tục tăng trở lại vào tháng 12/2019.\n",
    "    Giá gạo trung bình quốc gia nhìn chung có xu hướng tăng và dự kiến vẫn có thể tiếp tục tăng vào năm 2020."
   ]
  },
  {
   "cell_type": "markdown",
   "id": "89e05271",
   "metadata": {},
   "source": [
    "Biểu đồ cột so sánh giá Rice và Wheat flour tháng 12 cuối năm năm 2019 của Ankara, Istanbul, Izmir và National Average."
   ]
  },
  {
   "cell_type": "code",
   "execution_count": 112,
   "id": "c7ac85b8",
   "metadata": {},
   "outputs": [],
   "source": [
    "dt3 = df[(df['Year'] == 2019) & (df['Month'] == 12) & (df['ProductName'] == 'Rice - Retail')].reset_index()\n",
    "dt4 = df[(df['Year'] == 2019) & (df['Month'] == 12) & (df['ProductName'] == 'Wheat flour - Retail')].reset_index()\n",
    "dt5 = pd.DataFrame({'x': dt3['Place'], 'y1': dt3['Price'], 'y2': dt4['Price']})"
   ]
  },
  {
   "cell_type": "code",
   "execution_count": 113,
   "id": "c9d61e3c",
   "metadata": {},
   "outputs": [
    {
     "data": {
      "text/html": [
       "<div>\n",
       "<style scoped>\n",
       "    .dataframe tbody tr th:only-of-type {\n",
       "        vertical-align: middle;\n",
       "    }\n",
       "\n",
       "    .dataframe tbody tr th {\n",
       "        vertical-align: top;\n",
       "    }\n",
       "\n",
       "    .dataframe thead th {\n",
       "        text-align: right;\n",
       "    }\n",
       "</style>\n",
       "<table border=\"1\" class=\"dataframe\">\n",
       "  <thead>\n",
       "    <tr style=\"text-align: right;\">\n",
       "      <th></th>\n",
       "      <th>x</th>\n",
       "      <th>y1</th>\n",
       "      <th>y2</th>\n",
       "    </tr>\n",
       "  </thead>\n",
       "  <tbody>\n",
       "    <tr>\n",
       "      <th>0</th>\n",
       "      <td>National Average</td>\n",
       "      <td>9.5616</td>\n",
       "      <td>3.9411</td>\n",
       "    </tr>\n",
       "    <tr>\n",
       "      <th>1</th>\n",
       "      <td>Ankara</td>\n",
       "      <td>8.9477</td>\n",
       "      <td>3.5142</td>\n",
       "    </tr>\n",
       "    <tr>\n",
       "      <th>2</th>\n",
       "      <td>Istanbul</td>\n",
       "      <td>10.2924</td>\n",
       "      <td>4.1495</td>\n",
       "    </tr>\n",
       "    <tr>\n",
       "      <th>3</th>\n",
       "      <td>Izmir</td>\n",
       "      <td>10.2803</td>\n",
       "      <td>4.2703</td>\n",
       "    </tr>\n",
       "  </tbody>\n",
       "</table>\n",
       "</div>"
      ],
      "text/plain": [
       "                  x       y1      y2\n",
       "0  National Average   9.5616  3.9411\n",
       "1            Ankara   8.9477  3.5142\n",
       "2          Istanbul  10.2924  4.1495\n",
       "3             Izmir  10.2803  4.2703"
      ]
     },
     "execution_count": 113,
     "metadata": {},
     "output_type": "execute_result"
    }
   ],
   "source": [
    "dt5"
   ]
  },
  {
   "cell_type": "code",
   "execution_count": 114,
   "id": "de94989b",
   "metadata": {},
   "outputs": [
    {
     "data": {
      "image/png": "[encoded data removed]",
      "text/plain": [
       "<Figure size 432x288 with 1 Axes>"
      ]
     },
     "metadata": {
      "needs_background": "light"
     },
     "output_type": "display_data"
    }
   ],
   "source": [
    "dt5.plot(x = 'x', y = ['y1', 'y2'], kind = 'bar')\n",
    "plt.title('Giá gạo và wheat flour 12/2019', fontsize = 16, color = 'r')\n",
    "plt.xlabel('Place', fontsize = 14)\n",
    "plt.ylabel('Price', fontsize = 14)\n",
    "plt.show()"
   ]
  },
  {
   "cell_type": "markdown",
   "id": "ed704d75",
   "metadata": {},
   "source": [
    "Biểu đồ xu hướng giá gạo qua các năm"
   ]
  },
  {
   "cell_type": "code",
   "execution_count": 115,
   "id": "f2208d02",
   "metadata": {},
   "outputs": [
    {
     "data": {
      "text/plain": [
       "<seaborn.axisgrid.FacetGrid at 0x2c78c2eb220>"
      ]
     },
     "execution_count": 115,
     "metadata": {},
     "output_type": "execute_result"
    },
    {
     "data": {
      "image/png": "[encoded data removed]",
      "text/plain": [
       "<Figure size 521.75x360 with 1 Axes>"
      ]
     },
     "metadata": {
      "needs_background": "light"
     },
     "output_type": "display_data"
    }
   ],
   "source": [
    "trans_df = df[(df[\"ProductName\"] == \"Transport (public) - Retail\") | (df[\"ProductName\"] == \"Rice - Retail\")]\n",
    "sns.lmplot(x=\"Year\", y=\"Price\", hue=\"ProductName\", data = trans_df)"
   ]
  },
  {
   "cell_type": "raw",
   "id": "2969e7fe",
   "metadata": {},
   "source": [
    "Có thể thấy rằng dù chi phí vận chuyển có xu hướng giảm, tuy nhiên giá gạo vẫn tăng khá mạnh, chứng tỏ không có sự liên quan giữa 2 thuộc tính này"
   ]
  },
  {
   "cell_type": "markdown",
   "id": "d1db3b0e",
   "metadata": {},
   "source": [
    "Biểu đồ phân bố cho giá sản phẩm"
   ]
  },
  {
   "cell_type": "code",
   "execution_count": 116,
   "id": "e82d903e",
   "metadata": {},
   "outputs": [
    {
     "data": {
      "text/plain": [
       "<AxesSubplot:ylabel='Price'>"
      ]
     },
     "execution_count": 116,
     "metadata": {},
     "output_type": "execute_result"
    },
    {
     "data": {
      "image/png": "[encoded data removed]",
      "text/plain": [
       "<Figure size 432x288 with 1 Axes>"
      ]
     },
     "metadata": {
      "needs_background": "light"
     },
     "output_type": "display_data"
    }
   ],
   "source": [
    "sns.violinplot(y = \"Price\", data=df)"
   ]
  },
  {
   "cell_type": "raw",
   "id": "ca5f131a",
   "metadata": {},
   "source": [
    "Có thể nhận thấy dữ liệu phân bố không được đều, nhiều sản phẩm giá thấp và ít sản phẩm giá cao."
   ]
  },
  {
   "cell_type": "markdown",
   "id": "899b99d6",
   "metadata": {},
   "source": [
    "Biểu đồ phân bố cho năm của sản phẩm"
   ]
  },
  {
   "cell_type": "code",
   "execution_count": 117,
   "id": "7b74b4be",
   "metadata": {},
   "outputs": [
    {
     "data": {
      "text/plain": [
       "<AxesSubplot:ylabel='Year'>"
      ]
     },
     "execution_count": 117,
     "metadata": {},
     "output_type": "execute_result"
    },
    {
     "data": {
      "image/png": "[encoded data removed]",
      "text/plain": [
       "<Figure size 432x288 with 1 Axes>"
      ]
     },
     "metadata": {
      "needs_background": "light"
     },
     "output_type": "display_data"
    }
   ],
   "source": [
    "sns.violinplot(y = \"Year\", data=df)"
   ]
  },
  {
   "cell_type": "raw",
   "id": "ae1125ff",
   "metadata": {},
   "source": [
    "Có thể thấy rằng số lượng sản phẩm chủ yếu nhiều vào những năm gần đây, những năm càng xa thì số lượng càng ít"
   ]
  },
  {
   "cell_type": "markdown",
   "id": "ecf347ab",
   "metadata": {},
   "source": [
    "Với mức ý nghĩa 5% hay kiểm định giả thuyết: giá bán lẻ gạo trung bình năm 2019 là 9.5 (Lira)/1 kg Turkish Lira là đơn vị tiền tệ ở Turkey (1usd ~ 8-9 Lira)"
   ]
  },
  {
   "cell_type": "code",
   "execution_count": 118,
   "id": "36f4ec9f",
   "metadata": {},
   "outputs": [],
   "source": [
    "from scipy import stats"
   ]
  },
  {
   "cell_type": "code",
   "execution_count": 119,
   "id": "1088a7e5",
   "metadata": {},
   "outputs": [],
   "source": [
    "product_names = list(df['ProductName'].unique()) "
   ]
  },
  {
   "cell_type": "code",
   "execution_count": 120,
   "id": "549e113b",
   "metadata": {},
   "outputs": [
    {
     "data": {
      "text/plain": [
       "(48, 8)"
      ]
     },
     "execution_count": 120,
     "metadata": {},
     "output_type": "execute_result"
    }
   ],
   "source": [
    "df_rice = df.loc[(df.ProductName== 'Rice - Retail') & (df.Year == 2019)]\n",
    "df_rice.shape"
   ]
  },
  {
   "cell_type": "code",
   "execution_count": 121,
   "id": "0bfdc8f3",
   "metadata": {
    "scrolled": true
   },
   "outputs": [
    {
     "data": {
      "text/plain": [
       "<AxesSubplot:>"
      ]
     },
     "execution_count": 121,
     "metadata": {},
     "output_type": "execute_result"
    },
    {
     "data": {
      "image/png": "[encoded data removed]",
      "text/plain": [
       "<Figure size 432x288 with 1 Axes>"
      ]
     },
     "metadata": {
      "needs_background": "light"
     },
     "output_type": "display_data"
    }
   ],
   "source": [
    "df_rice.Price.hist()"
   ]
  },
  {
   "cell_type": "code",
   "execution_count": 122,
   "id": "3675f854",
   "metadata": {},
   "outputs": [
    {
     "data": {
      "text/plain": [
       "Ttest_1sampResult(statistic=-1.1854023812590566, pvalue=0.24181730968913567)"
      ]
     },
     "execution_count": 122,
     "metadata": {},
     "output_type": "execute_result"
    }
   ],
   "source": [
    "stats.ttest_1samp(df_rice.Price, 9.5)"
   ]
  },
  {
   "cell_type": "raw",
   "id": "3fc7fa8f",
   "metadata": {},
   "source": [
    "Kết luận: Với mức ý nghĩa 5% có thể nhận định giá gạo trung bình bằng 9.5 Lira/kg"
   ]
  }
 ],
 "metadata": {
  "kernelspec": {
   "display_name": "Python 3 (ipykernel)",
   "language": "python",
   "name": "python3"
  },
  "language_info": {
   "codemirror_mode": {
    "name": "ipython",
    "version": 3
   },
   "file_extension": ".py",
   "mimetype": "text/x-python",
   "name": "python",
   "nbconvert_exporter": "python",
   "pygments_lexer": "ipython3",
   "version": "3.9.12"
  }
 },
 "nbformat": 4,
 "nbformat_minor": 5
}
